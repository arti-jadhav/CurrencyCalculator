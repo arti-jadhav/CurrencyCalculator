{
 "cells": [
  {
   "cell_type": "code",
   "execution_count": 25,
   "metadata": {},
   "outputs": [
    {
     "name": "stdout",
     "output_type": "stream",
     "text": [
      "--->Currency Conversion Calculation<---\n",
      "Enter Amount: 100.00\n",
      "Source Currency: USD\n",
      "Target Currency: INR\n",
      "-------------------------------------------\n",
      "100.00 USD = 7298.36 INR\n",
      "Note:\n",
      "1 USD = 72.9836 INR\n",
      "The rate are latest as of Thu, 28 Jan 2021 00:00:02 +0000\n",
      "------------------------------------\n",
      "Database Length:  1\n",
      "Printing Database Content:\n",
      "[{'USD': 1, 'AED': 3.6725, 'AFN': 78.1996, 'ALL': 101.8341, 'AMD': 519.1474, 'ANG': 1.79, 'AOA': 654.0881, 'ARS': 87.0183, 'AUD': 1.2999, 'AWG': 1.79, 'AZN': 1.7004, 'BAM': 1.6131, 'BBD': 2.0, 'BDT': 84.7137, 'BGN': 1.6136, 'BHD': 0.376, 'BIF': 1940.6716, 'BMD': 1.0, 'BND': 1.327, 'BOB': 6.8747, 'BRL': 5.3647, 'BSD': 1.0, 'BTN': 72.9832, 'BWP': 11.0453, 'BYN': 2.5849, 'BZD': 2.0, 'CAD': 1.2753, 'CDF': 1980.9908, 'CHF': 0.8886, 'CLP': 732.8892, 'CNY': 6.476, 'COP': 3628.5383, 'CRC': 611.0861, 'CUC': 1.0, 'CUP': 25.0, 'CVE': 90.9425, 'CZK': 21.5258, 'DJF': 177.721, 'DKK': 6.153, 'DOP': 58.1244, 'DZD': 132.8781, 'EGP': 15.7408, 'ERN': 15.0, 'ETB': 39.5153, 'EUR': 0.8248, 'FJD': 2.0291, 'FKP': 0.7294, 'FOK': 6.153, 'GBP': 0.7294, 'GEL': 3.2999, 'GGP': 0.7294, 'GHS': 5.829, 'GIP': 0.7294, 'GMD': 52.0285, 'GNF': 10291.3563, 'GTQ': 7.772, 'GYD': 211.3377, 'HKD': 7.7535, 'HNL': 24.0811, 'HRK': 6.2142, 'HTG': 73.0059, 'HUF': 298.0784, 'IDR': 14159.8801, 'ILS': 3.2787, 'IMP': 0.7294, 'INR': 72.9836, 'IQD': 1461.0194, 'IRR': 42003.3551, 'ISK': 129.464, 'JMD': 146.1411, 'JOD': 0.709, 'JPY': 103.9951, 'KES': 110.1161, 'KGS': 84.4442, 'KHR': 4080.6685, 'KID': 1.2999, 'KMF': 405.757, 'KRW': 1106.8732, 'KWD': 0.2996, 'KYD': 0.8333, 'KZT': 422.2729, 'LAK': 9313.6718, 'LBP': 1507.5, 'LKR': 192.7263, 'LRD': 170.6796, 'LSL': 15.2096, 'LYD': 4.4596, 'MAD': 8.9593, 'MDL': 17.3147, 'MGA': 3783.9276, 'MKD': 50.7839, 'MMK': 1330.3622, 'MNT': 2857.4017, 'MOP': 7.9861, 'MRU': 36.0891, 'MUR': 39.508, 'MVR': 15.4268, 'MWK': 770.5305, 'MXN': 20.2102, 'MYR': 4.0442, 'MZN': 74.6069, 'NAD': 15.2096, 'NGN': 393.5799, 'NIO': 34.887, 'NOK': 8.619, 'NPR': 116.7732, 'NZD': 1.3931, 'OMR': 0.3845, 'PAB': 1.0, 'PEN': 3.6481, 'PGK': 3.5155, 'PHP': 48.1123, 'PKR': 160.7569, 'PLN': 3.7555, 'PYG': 6868.6804, 'QAR': 3.64, 'RON': 4.0218, 'RSD': 96.9843, 'RUB': 75.5319, 'RWF': 991.5336, 'SAR': 3.75, 'SBD': 8.0226, 'SCR': 21.2098, 'SDG': 55.1702, 'SEK': 8.3447, 'SGD': 1.327, 'SHP': 0.7294, 'SLL': 10235.1194, 'SOS': 578.9882, 'SRD': 14.1681, 'SSP': 175.9556, 'STN': 20.2067, 'SYP': 702.0213, 'SZL': 15.2096, 'THB': 30.0207, 'TJS': 11.344, 'TMT': 3.4987, 'TND': 2.6913, 'TOP': 2.2737, 'TRY': 7.3798, 'TTD': 6.7998, 'TVD': 1.2999, 'TWD': 28.0021, 'TZS': 2317.4134, 'UAH': 28.1553, 'UGX': 3675.4086, 'UYU': 42.0824, 'UZS': 10549.6507, 'VES': 1803680.9075, 'VND': 23055.2548, 'VUV': 108.2292, 'WST': 2.5158, 'XAF': 541.0094, 'XCD': 2.7, 'XDR': 0.6945, 'XOF': 541.0094, 'XPF': 98.4207, 'YER': 251.0639, 'ZAR': 15.2102, 'ZMW': 21.3994}]\n"
     ]
    }
   ],
   "source": [
    "import requests\n",
    "import json\n",
    "import tinydb\n",
    "\n",
    "main_api = 'https://v6.exchangerate-api.com/v6/30a52dd5c50320f0d494ce89/latest/'\n",
    "print('--->Currency Conversion Calculation<---')\n",
    "amt=input('Enter Amount: ')\n",
    "scurrency=input('Source Currency: ')\n",
    "tcurrency=input('Target Currency: ')\n",
    "\n",
    "url=main_api+ scurrency\n",
    "\n",
    "json_data=requests.get(url).json()\n",
    "#print(json.dumps(json_data, indent = 4, sort_keys=True))\n",
    "\n",
    "print('-------------------------------------------')\n",
    "rate = json_data['conversion_rates'][tcurrency] \n",
    "op = float(rate)*float(amt)\n",
    "print( amt , scurrency , \"=\" ,  op , tcurrency )\n",
    "print('Note:')\n",
    "print('1 ' + json_data['base_code'] ,'=' , json_data['conversion_rates'][tcurrency],tcurrency)\n",
    "print('The rate are latest as of ' + json_data['time_last_update_utc'])\n",
    "\n",
    "db = tinydb.TinyDB(\"db_storage.json\")\n",
    "db.insert(json_data['conversion_rates'])  # insert it in the DB\n",
    "print(\"------------------------------------\")\n",
    "print(\"Database Length: \" ,len(db))\n",
    "print(\"Printing Database Content:\")\n",
    "print(db.all())\n",
    "\n",
    "db.truncate()\n",
    "\n"
   ]
  },
  {
   "cell_type": "code",
   "execution_count": null,
   "metadata": {},
   "outputs": [],
   "source": []
  }
 ],
 "metadata": {
  "kernelspec": {
   "display_name": "Python 3",
   "language": "python",
   "name": "python3"
  },
  "language_info": {
   "codemirror_mode": {
    "name": "ipython",
    "version": 3
   },
   "file_extension": ".py",
   "mimetype": "text/x-python",
   "name": "python",
   "nbconvert_exporter": "python",
   "pygments_lexer": "ipython3",
   "version": "3.8.5"
  }
 },
 "nbformat": 4,
 "nbformat_minor": 4
}
